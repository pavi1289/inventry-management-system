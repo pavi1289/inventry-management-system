{
  "nbformat": 4,
  "nbformat_minor": 0,
  "metadata": {
    "colab": {
      "name": "Copy of Untitled6.ipynb",
      "provenance": [],
      "collapsed_sections": []
    },
    "kernelspec": {
      "name": "python3",
      "display_name": "Python 3"
    },
    "language_info": {
      "name": "python"
    }
  },
  "cells": [
    {
      "cell_type": "code",
      "metadata": {
        "id": "oqkZGZBSnc4s"
      },
      "source": [
        "import json\n",
        "import os"
      ],
      "execution_count": null,
      "outputs": []
    },
    {
      "cell_type": "code",
      "metadata": {
        "id": "lPeXP5ugnqEw"
      },
      "source": [
        "def loadJson():\n",
        "    \"\"\"\n",
        "        Load Json file\n",
        "    \"\"\"\n",
        "    if os.path.exists('record.json'):\n",
        "        if os.stat(\"record.json\").st_size == 0:\n",
        "            return {}\n",
        "        else:\n",
        "            with open('record.json','r') as f:\n",
        "                record=json.loads(f.read())\n",
        "            return record    \n",
        "    else:\n",
        "        return {}"
      ],
      "execution_count": null,
      "outputs": []
    },
    {
      "cell_type": "code",
      "metadata": {
        "id": "OP0hwsevnsYq"
      },
      "source": [
        "def dumpsJson():\n",
        "    \"\"\"\n",
        "        This method is used for save progress into file\n",
        "    \"\"\"\n",
        "    if input(\"Do you want to save all updates? Y/N  \").lower()=='y':\n",
        "        \n",
        "        txt=json.dumps(record)\n",
        "        with open('record.json','w') as f:\n",
        "          f.write(txt)\n",
        "        print('***************  Record Saved  ***************')\n",
        "    else:\n",
        "        print(\"*************** Record Not saved ***************\")"
      ],
      "execution_count": null,
      "outputs": []
    },
    {
      "cell_type": "code",
      "metadata": {
        "id": "-hj3U-5yn0ay"
      },
      "source": [
        "def addRecord(id):\n",
        "    \"\"\"\n",
        "        This method is used for add record.\n",
        "        Operations handle by the method\n",
        "    \"\"\"\n",
        "    add=input(\"Do you want to add new record Y/N  \").lower()\n",
        "    if add=='y':\n",
        "        record[id]={}\n",
        "        name=input(\"Enter product name  \")\n",
        "        cat=input(\"Enter product Catogary  \")\n",
        "        price=int(input(\"Enter Product Price  \"))\n",
        "        quant=int(input(\"Enter Product Quantity  \"))\n",
        "        dis=int(input(\"Enter Product Discount % \"))\n",
        "        record[id]['name']=name\n",
        "        record[id]['catogary']=cat\n",
        "        record[id]['price']=price\n",
        "        record[id]['quantity']=quant\n",
        "        record[id]['discount']=dis\n",
        "        print(\"Record added successfully  \")\n",
        "    else:\n",
        "        print(\"Operation Cancel  \")"
      ],
      "execution_count": null,
      "outputs": []
    },
    {
      "cell_type": "code",
      "metadata": {
        "id": "Crh9NyW3n5x8"
      },
      "source": [
        "def updateRecord(id):\n",
        "    \"\"\"\n",
        "        This function/method is used for update Record.\n",
        "        Operations handle by this method\n",
        "            * Ask for want to update or not\n",
        "            * if yes \n",
        "                *** Ask for Which attribute want to update\n",
        "                *** The take new input for that attribut\n",
        "                *** The try to update \n",
        "            * Otherwise \n",
        "                *** Exit from function/method\n",
        "     \"\"\"\n",
        "    flag=True\n",
        "    update=input(\"Record Already Exist!!!\\nDo you want to update it? Y/N or enter q to exit  \").lower()\n",
        "    if update=='y':\n",
        "        while True:\n",
        "            key=input(\"Which one do you want to update Name/Catagory/Price/Quantity/Discount  \").lower()\n",
        "            print(record[id])\n",
        "            if key in record[id]:\n",
        "                record[id][key]=input(f\"Enter new Value for {key}  \")\n",
        "                break\n",
        "            else:\n",
        "                print(\"Wrong value Please enter Again  \")\n",
        "        print(\"***************Record updated successfully***************\")\n",
        "    elif update=='q':\n",
        "        flag=False\n",
        "    else:\n",
        "        print(\"***************Operation Cancel***************\")\n",
        "    return flag"
      ],
      "execution_count": null,
      "outputs": []
    },
    {
      "cell_type": "code",
      "metadata": {
        "id": "tpRCC0WzoAey"
      },
      "source": [
        "def buyRecord(prodName):\n",
        "    \"\"\"\n",
        "        This function is used for buy a product from the Inventry Management System.\n",
        "        Operations of this method/function\n",
        "            Ask for buy product\n",
        "            check product is available or not\n",
        "            Show the product and related data\n",
        "            Ask for pay money\n",
        "    \"\"\"\n",
        "    AllProd={}\n",
        "    flag=True\n",
        "    for i in record:\n",
        "        if prodName == record[i]['name']:\n",
        "            AllProd[i]=f\"Name=> {record[i]['name']} Price:=> {record[i]['price']}\"\n",
        "    if len(AllProd)==0:\n",
        "        print(\"Product Not Found  \")\n",
        "    elif len(AllProd)==1:\n",
        "        agree=input(f\"Do you want to buy {list(AllProd.values())[0]} y/n and enter q to quit  \").lower()\n",
        "        if agree=='y':\n",
        "            quant=int(input(\"Enter The Quantity of the product  \"))\n",
        "            key=list(AllProd.keys())[0]\n",
        "            for i in record:\n",
        "                if i==key:\n",
        "                    if record[i]['quantity']>=quant:\n",
        "                        record[i]['quantity']-=quant\n",
        "                        price=record[i]['price']\n",
        "                        pay=input(\"You Need To pay {quant*price-((price*record[i]['discount'])/100)} \\nYou Want to pay or not y/n\")\n",
        "                        if pay=='y':\n",
        "                            print(\"*************** Successfully Purchessed ***************\")\n",
        "                        else:\n",
        "                            print(\"*************** Order Cancel ***************\")\n",
        "                    else:\n",
        "                        print(f\"Sorry We have Only {record[i]['quantity']} product  \")\n",
        "        elif agree=='q':\n",
        "            flag=False\n",
        "    elif len(AllProd)>1:\n",
        "        print(f\"There are {len(AllProd)} with name:=>{prodName} \\nDo you want to buy Choose one Or enter q to exit  \")\n",
        "        j=0\n",
        "        product={}\n",
        "        for i in AllProd:\n",
        "            print(f\"{j}:=> {AllProd[i]}  \")\n",
        "            product[j]=AllProd[i]\n",
        "            j+=1 \n",
        "        \n",
        "        k=input(f\"Choose Number {list(range(j))}  \")\n",
        "        key=product[int(k)]\n",
        "        if k!='q':\n",
        "            quant=int(input(\"Enter The Quantity of the product  \"))\n",
        "            for i in record:\n",
        "                if i==key:\n",
        "                    if record[i]['quantity']>=quant:\n",
        "                        record[i]['quantity']-=quant\n",
        "                        print(\"***************Successfully Purchessed***************\")\n",
        "                    else:\n",
        "                        print(f\"Sorry We have Only {record[i]['quantity']} product  \")\n",
        "        else:\n",
        "            flag=False  \n",
        "    return flag"
      ],
      "execution_count": null,
      "outputs": []
    },
    {
      "cell_type": "code",
      "metadata": {
        "id": "dHh10hpfoIAb"
      },
      "source": [
        "def operations():\n",
        "    \"\"\"\n",
        "        This function/method is used for controlling operation like\n",
        "            * Add Record\n",
        "            * Buy Record\n",
        "        This function hadles multiple operations like :=>\n",
        "            * Ask for Add record\n",
        "                *** Enter Product I'd\n",
        "                *** Check id is present or not\n",
        "                *** If present then execute updateRecord method\n",
        "                *** Otherwise execute addRecord method\n",
        "            * Ask for buy record\n",
        "                *** Enter Product Name\n",
        "                *** Execute buyRecord method\n",
        "    \"\"\"\n",
        "    flag=True\n",
        "    buyOrAdd=input(\"Do you want to add a record or Buy something from a record add/buy Or Enter Q to exit  \").lower()\n",
        "    if buyOrAdd=='add':\n",
        "        while flag:\n",
        "            id=int(input(\"Enter Product I'd  \"))\n",
        "            if (str(id) or id) not in record:\n",
        "                flag = addRecord(id)\n",
        "            elif (str(id) or id) in record:\n",
        "                flag = updateRecord(id)\n",
        "            if input(\"Do you want to add more y/n  \").lower()=='n':\n",
        "                flag=False\n",
        "            else:\n",
        "                flag=True\n",
        "    elif buyOrAdd=='buy':\n",
        "        while flag:\n",
        "            name=input(\"Enter product name  \")\n",
        "            flag=buyRecord(name)\n",
        "            if input(\"Do you want to buy more y/n  \").lower()=='n':\n",
        "                flag=False\n",
        "    elif buyOrAdd=='q':\n",
        "        flag=False\n",
        "    else:\n",
        "        print(\"Wrong Input \\nPlease Enter again:=>  \")\n",
        "    return flag"
      ],
      "execution_count": null,
      "outputs": []
    },
    {
      "cell_type": "code",
      "metadata": {
        "colab": {
          "base_uri": "https://localhost:8080/"
        },
        "id": "Sr2Pl9RroO1I",
        "outputId": "30b56366-99ba-4bf5-cf08-bc4d13f72edc"
      },
      "source": [
        "if __name__=='__main__':\n",
        "    record=loadJson()\n",
        "    flag=True\n",
        "    while flag:\n",
        "        print(\"******************** Welcome To MAS Creation ********************\")    \n",
        "        flag=True\n",
        "        print(\"\\n\\n*************** Old Record ***************\\n\")\n",
        "        if record=={}:\n",
        "            print(\"*************** Record Empty ***************\")\n",
        "        else:\n",
        "            for i in record:\n",
        "                print(i,\":=>\",record[i])\n",
        "        flag = operations()            \n",
        "        if input(\"Do you want to continue y/n  \").lower()=='n':\n",
        "            break\n",
        "        else:\n",
        "            flag=True\n",
        "    dumpsJson()\n",
        "    print(\"\\n\\n*********** Thanks you For using ***************\")"
      ],
      "execution_count": null,
      "outputs": [
        {
          "output_type": "stream",
          "name": "stdout",
          "text": [
            "******************** Welcome To MAS Creation ********************\n",
            "\n",
            "\n",
            "*************** Old Record ***************\n",
            "\n",
            "3 :=> {'name': 'Dairy Milk', 'catogary': 'Chocolate', 'price': 5, 'quantity': 50, 'discount': 0}\n",
            "1 :=> {'name': 'Barbon', 'catogary': 'Chocolate', 'price': 5, 'quantity': 50, 'discount': 0}\n",
            "2 :=> {'name': 'Barbon', 'catogary': 'Chocolate', 'price': 10, 'quantity': 30, 'discount': 0}\n",
            "4 :=> {'name': 'Dairy Milk', 'catogary': 'Chocolate', 'price': 10, 'quantity': 62, 'discount': 0}\n",
            "5 :=> {'name': 'Kitkat', 'catogary': 'Chocolate', 'price': 5, 'quantity': 42, 'discount': 0}\n",
            "6 :=> {'name': 'Kitkat', 'catogary': 'Chocolate', 'price': 20, 'quantity': 53, 'discount': 0}\n",
            "7 :=> {'name': '5 star', 'catogary': 'Chocolate', 'price': 5, 'quantity': 100, 'discount': 0}\n",
            "8 :=> {'name': 'Galaxy', 'catogary': 'Chocolate', 'price': 5, 'quantity': 230, 'discount': 0}\n",
            "9 :=> {'name': 'Dairy Milk Silk', 'catogary': 'Chocolate', 'price': 50, 'quantity': 30, 'discount': 0}\n",
            "10 :=> {'name': 'Nestle', 'catogary': 'Chocolate', 'price': 5, 'quantity': 23, 'discount': 0}\n",
            "11 :=> {'name': 'Cadbury', 'catogary': 'Chocolate', 'price': 10, 'quantity': 150, 'discount': 0}\n",
            "12 :=> {'name': 'Amul', 'catogary': 'Chocolate', 'price': 5, 'quantity': 20, 'discount': 0}\n",
            "13 :=> {'name': 'Ferro Rocher', 'catogary': 'Chocolate', 'price': 15, 'quantity': 560, 'discount': 10}\n",
            "14 :=> {'name': 'Hershey', 'catogary': 'Chocolate', 'price': 5, 'quantity': 500, 'discount': 5}\n",
            "15 :=> {'name': 'Mars', 'catogary': 'Chocolate', 'price': 5, 'quantity': 102, 'discount': 0}\n",
            "16 :=> {'name': 'Galaxy', 'catogary': 'Chocolate', 'price': 20, 'quantity': 80, 'discount': 0}\n",
            "17 :=> {'name': 'Milkybar', 'catogary': 'Chocolate', 'price': 5, 'quantity': 90, 'discount': 0}\n",
            "18 :=> {'name': 'Amul Dark Chocolate', 'catogary': 'Chocolate', 'price': 80, 'quantity': 70, 'discount': 0}\n",
            "19 :=> {'name': 'Ferrero Rocher Chocolate Balls', 'catogary': 'Chocolate', 'price': 50, 'quantity': 150, 'discount': 0}\n",
            "20 :=> {'name': 'Lottry Choco Pie', 'catogary': 'Cup Cake/Choco Pie', 'price': 10, 'quantity': 90, 'discount': 0}\n",
            "21 :=> {'name': 'Kurkure', 'catogary': 'Snake', 'price': 5, 'quantity': 50, 'discount': 0}\n",
            "22 :=> {'name': 'TakaTak', 'catogary': 'Snakes', 'price': 10, 'quantity': 50, 'discount': 0}\n",
            "23 :=> {'name': 'Uncle Chips', 'catogary': 'Snakes', 'price': 5, 'quantity': 30, 'discount': 0}\n",
            "24 :=> {'name': 'Eclayers  ', 'catogary': 'Toffy', 'price': 1, 'quantity': 10000, 'discount': 0}\n",
            "25 :=> {'name': 'Apple Lebals', 'catogary': 'Toffy', 'price': 1, 'quantity': 20000, 'discount': 0}\n",
            "26 :=> {'name': 'Pluse', 'catogary': 'Toffy', 'price': 1, 'quantity': 9000, 'discount': 0}\n",
            "27 :=> {'name': 'KissMe', 'catogary': 'Toffy', 'price': 2, 'quantity': 8000, 'discount': 0}\n",
            "28 :=> {'name': 'Maza', 'catogary': 'Soft Drink', 'price': 20, 'quantity': 500, 'discount': 0}\n",
            "29 :=> {'name': 'fruty', 'catogary': 'Soft Drink', 'price': 45, 'quantity': 600, 'discount': 0}\n",
            "30 :=> {'name': 'Sprite', 'catogary': 'Soft Drink', 'price': 15, 'quantity': 800, 'discount': 0}\n",
            "Do you want to add a record or Buy something from a record add/buy Or Enter Q to exit  Q\n",
            "Do you want to continue y/n  n\n",
            "Do you want to save all updates? Y/N  Y\n",
            "***************  Record Saved  ***************\n",
            "\n",
            "\n",
            "*********** Thanks you For using ***************\n"
          ]
        }
      ]
    },
    {
      "cell_type": "code",
      "metadata": {
        "id": "mdzhiQtkojc2"
      },
      "source": [
        "\n"
      ],
      "execution_count": null,
      "outputs": []
    }
  ]
}